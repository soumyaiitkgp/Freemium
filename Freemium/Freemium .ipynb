{
 "cells": [
  {
   "cell_type": "code",
   "execution_count": null,
   "metadata": {},
   "outputs": [],
   "source": [
    "from time import sleep\n",
    "from selenium import webdriver\n",
    "\n",
    "from datetime import datetime\n",
    "from datetime import date\n",
    "from datetime import timedelta"
   ]
  },
  {
   "cell_type": "code",
   "execution_count": null,
   "metadata": {},
   "outputs": [],
   "source": [
    "def restart(i):    \n",
    "    now = datetime.now()\n",
    "    current_time = now.strftime(\"%H:%M:%S\")\n",
    "    minutes = i\n",
    "    minutes_added = timedelta(minutes = minutes)\n",
    "\n",
    "    future_date_and_time = now + minutes_added\n",
    "    future_date_and_time = future_date_and_time.strftime(\"%H:%M:%S\")\n",
    "    store = future_date_and_time\n",
    "    print('Current time:',current_time)\n",
    "    print('Refresh scheduled at:',future_date_and_time)\n",
    "    while 1:\n",
    "        now = datetime.now()\n",
    "        current_time = now.strftime(\"%H:%M:%S\")\n",
    "        if store == current_time:\n",
    "            driver.delete_all_cookies()\n",
    "            print('...')\n",
    "            print('Last refresh at:', current_time)\n",
    "            driver.refresh()\n",
    "            restart(i)"
   ]
  },
  {
   "cell_type": "code",
   "execution_count": null,
   "metadata": {},
   "outputs": [],
   "source": [
    "now = datetime.now()\n",
    "current_time = now.strftime(\"%H:%M:%S\")\n",
    "\n",
    "# Go to the correct domain\n",
    "driver = webdriver.Chrome('C:/bin/chromedriver.exe')\n",
    "driver.get('https://medium.com/analytics-vidhya/make-yolo-do-object-detection-faster-with-multiprocessing-1877334dff0e')"
   ]
  },
  {
   "cell_type": "code",
   "execution_count": null,
   "metadata": {
    "scrolled": true
   },
   "outputs": [],
   "source": [
    "restart(1) #enter the time interval to refresh page"
   ]
  }
 ],
 "metadata": {
  "kernelspec": {
   "display_name": "Python [conda env:root] *",
   "language": "python",
   "name": "conda-root-py"
  },
  "language_info": {
   "codemirror_mode": {
    "name": "ipython",
    "version": 3
   },
   "file_extension": ".py",
   "mimetype": "text/x-python",
   "name": "python",
   "nbconvert_exporter": "python",
   "pygments_lexer": "ipython3",
   "version": "3.7.9"
  }
 },
 "nbformat": 4,
 "nbformat_minor": 4
}
